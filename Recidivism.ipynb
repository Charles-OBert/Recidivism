{
  "nbformat": 4,
  "nbformat_minor": 0,
  "metadata": {
    "colab": {
      "provenance": [],
      "include_colab_link": true
    },
    "kernelspec": {
      "name": "python3",
      "display_name": "Python 3"
    },
    "language_info": {
      "name": "python"
    }
  },
  "cells": [
    {
      "cell_type": "markdown",
      "metadata": {
        "id": "view-in-github",
        "colab_type": "text"
      },
      "source": [
        "<a href=\"https://colab.research.google.com/github/Charles-OBert/Recidivism/blob/main/Recidivism.ipynb\" target=\"_parent\"><img src=\"https://colab.research.google.com/assets/colab-badge.svg\" alt=\"Open In Colab\"/></a>"
      ]
    },
    {
      "cell_type": "markdown",
      "source": [
        "**Systemic Nature of Recidivism**\n",
        "\n",
        "Charles O'Bert and Cameron McLaren\n",
        "\n",
        "https://charles-obert.github.io/Recidivism/Recidivism.html"
      ],
      "metadata": {
        "id": "fTMCPyev-uR5"
      }
    },
    {
      "cell_type": "markdown",
      "source": [
        "**Project Goals**\n",
        "\n",
        "The goal of this project is to understand the systemic factors that lead to increased recidivism rates:\n",
        "\n",
        "1.   How does education level affect one's chances of reincarceration?\n",
        "2.   How does employment level affect one's chances of reincarceration?\n",
        "3.   What other factors contribute to recidivism rate?\n",
        "\n",
        "Our hypothesis is that due to the way the prison system is structured, people with lower employment and education levels are more likely to face reincarceration given that more marginalized individuals are at higher risk for facing violence at the hands of the state."
      ],
      "metadata": {
        "id": "cPeK8jjN9yHN"
      }
    },
    {
      "cell_type": "markdown",
      "source": [
        "**Collaboration Plan**\n",
        "\n",
        "Our plan is to meet biweekly over Zoom in order to break down the deliverables for each milestone. We will go through each piece of the assignment and work on some pieces collaboratively and delegate other pieces accordingly. We plan to use Google Colab for the coding bits, and then we will import it into Jupyter Notebooks in order to submit it."
      ],
      "metadata": {
        "id": "gA8J4CY-9zi6"
      }
    },
    {
      "cell_type": "markdown",
      "source": [
        "**Data Set Description:**\n",
        "\n",
        "https://data.ojp.usdoj.gov/Courts/NIJ-s-Recidivism-Challenge-Full-Dataset/ynf5-u8nk/about_data\n",
        "\n",
        "Georgia gives documentation for individuals who have been reincarcerated and various pieces of information about them, including education level, race, gender, age, employment, and sentence lengths."
      ],
      "metadata": {
        "id": "b-dyUeOp-KLr"
      }
    },
    {
      "cell_type": "code",
      "source": [
        "# ETL: get and turn into tidy data\n",
        "import pandas as pd\n",
        "!git clone https://github.com/Charles-OBert/Recidivism.git\n",
        "rec = pd.read_csv('Recidivism/Recidivism.csv') # read the 'csv' file\n",
        "rec.dropna(inplace=True) # gets rid of any entries with NaN in them\n",
        "rec.head()"
      ],
      "metadata": {
        "colab": {
          "base_uri": "https://localhost:8080/",
          "height": 359
        },
        "id": "Ivs451edv2V9",
        "outputId": "40b7062d-9015-4582-a5c3-af2c5d3d0c73"
      },
      "execution_count": null,
      "outputs": [
        {
          "output_type": "stream",
          "name": "stdout",
          "text": [
            "fatal: destination path 'Recidivism' already exists and is not an empty directory.\n"
          ]
        },
        {
          "output_type": "execute_result",
          "data": {
            "text/plain": [
              "   ID Gender   Race Age_at_Release  Residence_PUMA Gang_Affiliated  \\\n",
              "0   1      M  BLACK          43-47              16           False   \n",
              "1   2      M  BLACK          33-37              16           False   \n",
              "2   3      M  BLACK    48 or older              24           False   \n",
              "3   4      M  WHITE          38-42              16           False   \n",
              "4   5      M  WHITE          33-37              16           False   \n",
              "\n",
              "   Supervision_Risk_Score_First Supervision_Level_First  \\\n",
              "0                           3.0                Standard   \n",
              "1                           6.0             Specialized   \n",
              "2                           7.0                    High   \n",
              "3                           7.0                    High   \n",
              "4                           4.0             Specialized   \n",
              "\n",
              "         Education_Level Dependents  ... DrugTests_Meth_Positive  \\\n",
              "0  At least some college  3 or more  ...                0.000000   \n",
              "1   Less than HS diploma          1  ...                0.000000   \n",
              "2  At least some college  3 or more  ...                0.166667   \n",
              "3   Less than HS diploma          1  ...                0.000000   \n",
              "4   Less than HS diploma  3 or more  ...                0.058824   \n",
              "\n",
              "  DrugTests_Other_Positive Percent_Days_Employed Jobs_Per_Year  \\\n",
              "0                      0.0              0.488562      0.447610   \n",
              "1                      0.0              0.425234      2.000000   \n",
              "2                      0.0              0.000000      0.000000   \n",
              "3                      0.0              1.000000      0.718996   \n",
              "4                      0.0              0.203562      0.929389   \n",
              "\n",
              "  Employment_Exempt Recidivism_Within_3years Recidivism_Arrest_Year1  \\\n",
              "0             False                    False                   False   \n",
              "1             False                     True                   False   \n",
              "2             False                     True                   False   \n",
              "3             False                    False                   False   \n",
              "4             False                     True                    True   \n",
              "\n",
              "  Recidivism_Arrest_Year2  Recidivism_Arrest_Year3  Training_Sample  \n",
              "0                   False                    False                1  \n",
              "1                   False                     True                1  \n",
              "2                    True                    False                1  \n",
              "3                   False                    False                1  \n",
              "4                   False                    False                1  \n",
              "\n",
              "[5 rows x 54 columns]"
            ],
            "text/html": [
              "\n",
              "  <div id=\"df-0bb9e33e-e3d8-48da-af15-e96c258dd11b\" class=\"colab-df-container\">\n",
              "    <div>\n",
              "<style scoped>\n",
              "    .dataframe tbody tr th:only-of-type {\n",
              "        vertical-align: middle;\n",
              "    }\n",
              "\n",
              "    .dataframe tbody tr th {\n",
              "        vertical-align: top;\n",
              "    }\n",
              "\n",
              "    .dataframe thead th {\n",
              "        text-align: right;\n",
              "    }\n",
              "</style>\n",
              "<table border=\"1\" class=\"dataframe\">\n",
              "  <thead>\n",
              "    <tr style=\"text-align: right;\">\n",
              "      <th></th>\n",
              "      <th>ID</th>\n",
              "      <th>Gender</th>\n",
              "      <th>Race</th>\n",
              "      <th>Age_at_Release</th>\n",
              "      <th>Residence_PUMA</th>\n",
              "      <th>Gang_Affiliated</th>\n",
              "      <th>Supervision_Risk_Score_First</th>\n",
              "      <th>Supervision_Level_First</th>\n",
              "      <th>Education_Level</th>\n",
              "      <th>Dependents</th>\n",
              "      <th>...</th>\n",
              "      <th>DrugTests_Meth_Positive</th>\n",
              "      <th>DrugTests_Other_Positive</th>\n",
              "      <th>Percent_Days_Employed</th>\n",
              "      <th>Jobs_Per_Year</th>\n",
              "      <th>Employment_Exempt</th>\n",
              "      <th>Recidivism_Within_3years</th>\n",
              "      <th>Recidivism_Arrest_Year1</th>\n",
              "      <th>Recidivism_Arrest_Year2</th>\n",
              "      <th>Recidivism_Arrest_Year3</th>\n",
              "      <th>Training_Sample</th>\n",
              "    </tr>\n",
              "  </thead>\n",
              "  <tbody>\n",
              "    <tr>\n",
              "      <th>0</th>\n",
              "      <td>1</td>\n",
              "      <td>M</td>\n",
              "      <td>BLACK</td>\n",
              "      <td>43-47</td>\n",
              "      <td>16</td>\n",
              "      <td>False</td>\n",
              "      <td>3.0</td>\n",
              "      <td>Standard</td>\n",
              "      <td>At least some college</td>\n",
              "      <td>3 or more</td>\n",
              "      <td>...</td>\n",
              "      <td>0.000000</td>\n",
              "      <td>0.0</td>\n",
              "      <td>0.488562</td>\n",
              "      <td>0.447610</td>\n",
              "      <td>False</td>\n",
              "      <td>False</td>\n",
              "      <td>False</td>\n",
              "      <td>False</td>\n",
              "      <td>False</td>\n",
              "      <td>1</td>\n",
              "    </tr>\n",
              "    <tr>\n",
              "      <th>1</th>\n",
              "      <td>2</td>\n",
              "      <td>M</td>\n",
              "      <td>BLACK</td>\n",
              "      <td>33-37</td>\n",
              "      <td>16</td>\n",
              "      <td>False</td>\n",
              "      <td>6.0</td>\n",
              "      <td>Specialized</td>\n",
              "      <td>Less than HS diploma</td>\n",
              "      <td>1</td>\n",
              "      <td>...</td>\n",
              "      <td>0.000000</td>\n",
              "      <td>0.0</td>\n",
              "      <td>0.425234</td>\n",
              "      <td>2.000000</td>\n",
              "      <td>False</td>\n",
              "      <td>True</td>\n",
              "      <td>False</td>\n",
              "      <td>False</td>\n",
              "      <td>True</td>\n",
              "      <td>1</td>\n",
              "    </tr>\n",
              "    <tr>\n",
              "      <th>2</th>\n",
              "      <td>3</td>\n",
              "      <td>M</td>\n",
              "      <td>BLACK</td>\n",
              "      <td>48 or older</td>\n",
              "      <td>24</td>\n",
              "      <td>False</td>\n",
              "      <td>7.0</td>\n",
              "      <td>High</td>\n",
              "      <td>At least some college</td>\n",
              "      <td>3 or more</td>\n",
              "      <td>...</td>\n",
              "      <td>0.166667</td>\n",
              "      <td>0.0</td>\n",
              "      <td>0.000000</td>\n",
              "      <td>0.000000</td>\n",
              "      <td>False</td>\n",
              "      <td>True</td>\n",
              "      <td>False</td>\n",
              "      <td>True</td>\n",
              "      <td>False</td>\n",
              "      <td>1</td>\n",
              "    </tr>\n",
              "    <tr>\n",
              "      <th>3</th>\n",
              "      <td>4</td>\n",
              "      <td>M</td>\n",
              "      <td>WHITE</td>\n",
              "      <td>38-42</td>\n",
              "      <td>16</td>\n",
              "      <td>False</td>\n",
              "      <td>7.0</td>\n",
              "      <td>High</td>\n",
              "      <td>Less than HS diploma</td>\n",
              "      <td>1</td>\n",
              "      <td>...</td>\n",
              "      <td>0.000000</td>\n",
              "      <td>0.0</td>\n",
              "      <td>1.000000</td>\n",
              "      <td>0.718996</td>\n",
              "      <td>False</td>\n",
              "      <td>False</td>\n",
              "      <td>False</td>\n",
              "      <td>False</td>\n",
              "      <td>False</td>\n",
              "      <td>1</td>\n",
              "    </tr>\n",
              "    <tr>\n",
              "      <th>4</th>\n",
              "      <td>5</td>\n",
              "      <td>M</td>\n",
              "      <td>WHITE</td>\n",
              "      <td>33-37</td>\n",
              "      <td>16</td>\n",
              "      <td>False</td>\n",
              "      <td>4.0</td>\n",
              "      <td>Specialized</td>\n",
              "      <td>Less than HS diploma</td>\n",
              "      <td>3 or more</td>\n",
              "      <td>...</td>\n",
              "      <td>0.058824</td>\n",
              "      <td>0.0</td>\n",
              "      <td>0.203562</td>\n",
              "      <td>0.929389</td>\n",
              "      <td>False</td>\n",
              "      <td>True</td>\n",
              "      <td>True</td>\n",
              "      <td>False</td>\n",
              "      <td>False</td>\n",
              "      <td>1</td>\n",
              "    </tr>\n",
              "  </tbody>\n",
              "</table>\n",
              "<p>5 rows × 54 columns</p>\n",
              "</div>\n",
              "    <div class=\"colab-df-buttons\">\n",
              "\n",
              "  <div class=\"colab-df-container\">\n",
              "    <button class=\"colab-df-convert\" onclick=\"convertToInteractive('df-0bb9e33e-e3d8-48da-af15-e96c258dd11b')\"\n",
              "            title=\"Convert this dataframe to an interactive table.\"\n",
              "            style=\"display:none;\">\n",
              "\n",
              "  <svg xmlns=\"http://www.w3.org/2000/svg\" height=\"24px\" viewBox=\"0 -960 960 960\">\n",
              "    <path d=\"M120-120v-720h720v720H120Zm60-500h600v-160H180v160Zm220 220h160v-160H400v160Zm0 220h160v-160H400v160ZM180-400h160v-160H180v160Zm440 0h160v-160H620v160ZM180-180h160v-160H180v160Zm440 0h160v-160H620v160Z\"/>\n",
              "  </svg>\n",
              "    </button>\n",
              "\n",
              "  <style>\n",
              "    .colab-df-container {\n",
              "      display:flex;\n",
              "      gap: 12px;\n",
              "    }\n",
              "\n",
              "    .colab-df-convert {\n",
              "      background-color: #E8F0FE;\n",
              "      border: none;\n",
              "      border-radius: 50%;\n",
              "      cursor: pointer;\n",
              "      display: none;\n",
              "      fill: #1967D2;\n",
              "      height: 32px;\n",
              "      padding: 0 0 0 0;\n",
              "      width: 32px;\n",
              "    }\n",
              "\n",
              "    .colab-df-convert:hover {\n",
              "      background-color: #E2EBFA;\n",
              "      box-shadow: 0px 1px 2px rgba(60, 64, 67, 0.3), 0px 1px 3px 1px rgba(60, 64, 67, 0.15);\n",
              "      fill: #174EA6;\n",
              "    }\n",
              "\n",
              "    .colab-df-buttons div {\n",
              "      margin-bottom: 4px;\n",
              "    }\n",
              "\n",
              "    [theme=dark] .colab-df-convert {\n",
              "      background-color: #3B4455;\n",
              "      fill: #D2E3FC;\n",
              "    }\n",
              "\n",
              "    [theme=dark] .colab-df-convert:hover {\n",
              "      background-color: #434B5C;\n",
              "      box-shadow: 0px 1px 3px 1px rgba(0, 0, 0, 0.15);\n",
              "      filter: drop-shadow(0px 1px 2px rgba(0, 0, 0, 0.3));\n",
              "      fill: #FFFFFF;\n",
              "    }\n",
              "  </style>\n",
              "\n",
              "    <script>\n",
              "      const buttonEl =\n",
              "        document.querySelector('#df-0bb9e33e-e3d8-48da-af15-e96c258dd11b button.colab-df-convert');\n",
              "      buttonEl.style.display =\n",
              "        google.colab.kernel.accessAllowed ? 'block' : 'none';\n",
              "\n",
              "      async function convertToInteractive(key) {\n",
              "        const element = document.querySelector('#df-0bb9e33e-e3d8-48da-af15-e96c258dd11b');\n",
              "        const dataTable =\n",
              "          await google.colab.kernel.invokeFunction('convertToInteractive',\n",
              "                                                    [key], {});\n",
              "        if (!dataTable) return;\n",
              "\n",
              "        const docLinkHtml = 'Like what you see? Visit the ' +\n",
              "          '<a target=\"_blank\" href=https://colab.research.google.com/notebooks/data_table.ipynb>data table notebook</a>'\n",
              "          + ' to learn more about interactive tables.';\n",
              "        element.innerHTML = '';\n",
              "        dataTable['output_type'] = 'display_data';\n",
              "        await google.colab.output.renderOutput(dataTable, element);\n",
              "        const docLink = document.createElement('div');\n",
              "        docLink.innerHTML = docLinkHtml;\n",
              "        element.appendChild(docLink);\n",
              "      }\n",
              "    </script>\n",
              "  </div>\n",
              "\n",
              "\n",
              "<div id=\"df-d14a15b4-2f69-44e5-b0b7-a4c225b02d79\">\n",
              "  <button class=\"colab-df-quickchart\" onclick=\"quickchart('df-d14a15b4-2f69-44e5-b0b7-a4c225b02d79')\"\n",
              "            title=\"Suggest charts\"\n",
              "            style=\"display:none;\">\n",
              "\n",
              "<svg xmlns=\"http://www.w3.org/2000/svg\" height=\"24px\"viewBox=\"0 0 24 24\"\n",
              "     width=\"24px\">\n",
              "    <g>\n",
              "        <path d=\"M19 3H5c-1.1 0-2 .9-2 2v14c0 1.1.9 2 2 2h14c1.1 0 2-.9 2-2V5c0-1.1-.9-2-2-2zM9 17H7v-7h2v7zm4 0h-2V7h2v10zm4 0h-2v-4h2v4z\"/>\n",
              "    </g>\n",
              "</svg>\n",
              "  </button>\n",
              "\n",
              "<style>\n",
              "  .colab-df-quickchart {\n",
              "      --bg-color: #E8F0FE;\n",
              "      --fill-color: #1967D2;\n",
              "      --hover-bg-color: #E2EBFA;\n",
              "      --hover-fill-color: #174EA6;\n",
              "      --disabled-fill-color: #AAA;\n",
              "      --disabled-bg-color: #DDD;\n",
              "  }\n",
              "\n",
              "  [theme=dark] .colab-df-quickchart {\n",
              "      --bg-color: #3B4455;\n",
              "      --fill-color: #D2E3FC;\n",
              "      --hover-bg-color: #434B5C;\n",
              "      --hover-fill-color: #FFFFFF;\n",
              "      --disabled-bg-color: #3B4455;\n",
              "      --disabled-fill-color: #666;\n",
              "  }\n",
              "\n",
              "  .colab-df-quickchart {\n",
              "    background-color: var(--bg-color);\n",
              "    border: none;\n",
              "    border-radius: 50%;\n",
              "    cursor: pointer;\n",
              "    display: none;\n",
              "    fill: var(--fill-color);\n",
              "    height: 32px;\n",
              "    padding: 0;\n",
              "    width: 32px;\n",
              "  }\n",
              "\n",
              "  .colab-df-quickchart:hover {\n",
              "    background-color: var(--hover-bg-color);\n",
              "    box-shadow: 0 1px 2px rgba(60, 64, 67, 0.3), 0 1px 3px 1px rgba(60, 64, 67, 0.15);\n",
              "    fill: var(--button-hover-fill-color);\n",
              "  }\n",
              "\n",
              "  .colab-df-quickchart-complete:disabled,\n",
              "  .colab-df-quickchart-complete:disabled:hover {\n",
              "    background-color: var(--disabled-bg-color);\n",
              "    fill: var(--disabled-fill-color);\n",
              "    box-shadow: none;\n",
              "  }\n",
              "\n",
              "  .colab-df-spinner {\n",
              "    border: 2px solid var(--fill-color);\n",
              "    border-color: transparent;\n",
              "    border-bottom-color: var(--fill-color);\n",
              "    animation:\n",
              "      spin 1s steps(1) infinite;\n",
              "  }\n",
              "\n",
              "  @keyframes spin {\n",
              "    0% {\n",
              "      border-color: transparent;\n",
              "      border-bottom-color: var(--fill-color);\n",
              "      border-left-color: var(--fill-color);\n",
              "    }\n",
              "    20% {\n",
              "      border-color: transparent;\n",
              "      border-left-color: var(--fill-color);\n",
              "      border-top-color: var(--fill-color);\n",
              "    }\n",
              "    30% {\n",
              "      border-color: transparent;\n",
              "      border-left-color: var(--fill-color);\n",
              "      border-top-color: var(--fill-color);\n",
              "      border-right-color: var(--fill-color);\n",
              "    }\n",
              "    40% {\n",
              "      border-color: transparent;\n",
              "      border-right-color: var(--fill-color);\n",
              "      border-top-color: var(--fill-color);\n",
              "    }\n",
              "    60% {\n",
              "      border-color: transparent;\n",
              "      border-right-color: var(--fill-color);\n",
              "    }\n",
              "    80% {\n",
              "      border-color: transparent;\n",
              "      border-right-color: var(--fill-color);\n",
              "      border-bottom-color: var(--fill-color);\n",
              "    }\n",
              "    90% {\n",
              "      border-color: transparent;\n",
              "      border-bottom-color: var(--fill-color);\n",
              "    }\n",
              "  }\n",
              "</style>\n",
              "\n",
              "  <script>\n",
              "    async function quickchart(key) {\n",
              "      const quickchartButtonEl =\n",
              "        document.querySelector('#' + key + ' button');\n",
              "      quickchartButtonEl.disabled = true;  // To prevent multiple clicks.\n",
              "      quickchartButtonEl.classList.add('colab-df-spinner');\n",
              "      try {\n",
              "        const charts = await google.colab.kernel.invokeFunction(\n",
              "            'suggestCharts', [key], {});\n",
              "      } catch (error) {\n",
              "        console.error('Error during call to suggestCharts:', error);\n",
              "      }\n",
              "      quickchartButtonEl.classList.remove('colab-df-spinner');\n",
              "      quickchartButtonEl.classList.add('colab-df-quickchart-complete');\n",
              "    }\n",
              "    (() => {\n",
              "      let quickchartButtonEl =\n",
              "        document.querySelector('#df-d14a15b4-2f69-44e5-b0b7-a4c225b02d79 button');\n",
              "      quickchartButtonEl.style.display =\n",
              "        google.colab.kernel.accessAllowed ? 'block' : 'none';\n",
              "    })();\n",
              "  </script>\n",
              "</div>\n",
              "\n",
              "    </div>\n",
              "  </div>\n"
            ],
            "application/vnd.google.colaboratory.intrinsic+json": {
              "type": "dataframe",
              "variable_name": "rec"
            }
          },
          "metadata": {},
          "execution_count": 98
        }
      ]
    },
    {
      "cell_type": "code",
      "source": [
        "# Get rid of unnecessary columns\n",
        "rec.drop(rec.columns[50:53], axis=1, inplace=True)\n",
        "rec.drop(rec.columns[47:48], axis=1, inplace=True)\n",
        "rec.drop(rec.columns[28:46], axis=1, inplace=True)\n",
        "rec.drop(rec.columns[0:8], axis=1, inplace=True)\n",
        "rec.drop(columns=['Dependents','Prison_Years','Training_Sample'],inplace=True)"
      ],
      "metadata": {
        "id": "ICNq3q2UZwY9"
      },
      "execution_count": null,
      "outputs": []
    },
    {
      "cell_type": "markdown",
      "source": [
        "Let's see what we have left."
      ],
      "metadata": {
        "id": "ZzcdXSauMqOP"
      }
    },
    {
      "cell_type": "code",
      "source": [
        "rec.dtypes"
      ],
      "metadata": {
        "id": "1f2Z2WdQMoJE",
        "colab": {
          "base_uri": "https://localhost:8080/"
        },
        "outputId": "9bc062b3-43f7-49da-aaf1-bb25fc49f6bf"
      },
      "execution_count": null,
      "outputs": [
        {
          "output_type": "execute_result",
          "data": {
            "text/plain": [
              "Education_Level                                       object\n",
              "Prison_Offense                                        object\n",
              "Prior_Arrest_Episodes_Felony                          object\n",
              "Prior_Arrest_Episodes_Misd                            object\n",
              "Prior_Arrest_Episodes_Violent                         object\n",
              "Prior_Arrest_Episodes_Property                        object\n",
              "Prior_Arrest_Episodes_Drug                            object\n",
              "Prior_Arrest_Episodes_PPViolationCharges              object\n",
              "Prior_Arrest_Episodes_DVCharges                         bool\n",
              "Prior_Arrest_Episodes_GunCharges                        bool\n",
              "Prior_Conviction_Episodes_Felony                      object\n",
              "Prior_Conviction_Episodes_Misd                        object\n",
              "Prior_Conviction_Episodes_Viol                          bool\n",
              "Prior_Conviction_Episodes_Prop                        object\n",
              "Prior_Conviction_Episodes_Drug                        object\n",
              "Prior_Conviction_Episodes_PPViolationCharges            bool\n",
              "Prior_Conviction_Episodes_DomesticViolenceCharges       bool\n",
              "Prior_Conviction_Episodes_GunCharges                    bool\n",
              "Percent_Days_Employed                                float64\n",
              "Employment_Exempt                                       bool\n",
              "Recidivism_Within_3years                                bool\n",
              "dtype: object"
            ]
          },
          "metadata": {},
          "execution_count": 100
        }
      ]
    },
    {
      "cell_type": "markdown",
      "source": [
        "Clearly a lot of these columns do not have an accurate dtype. Let's fix that."
      ],
      "metadata": {
        "id": "Bdpt24nPkwBd"
      }
    },
    {
      "cell_type": "code",
      "source": [
        "# We changed all of the columns with bool values into int values to make it easier for ml later\n",
        "\n",
        "for column in rec.columns:\n",
        "  if rec[column].dtypes == bool:\n",
        "    rec[column] = rec[column].astype(int)\n",
        "\n",
        "# Assign range of numerical values to an arbitrary number that makes it distinguishable from other data\n",
        "category_mappings = {'2 or more': 200,'3 or more': 300,  '4 or more': 400, '5 or more': 500, '6 or more': 600, '10 or more': 1000}\n",
        "\n",
        "# Iterate through columns\n",
        "for col in rec.columns:\n",
        "    if rec[col].dtype == 'object':\n",
        "        for category, value in category_mappings.items():\n",
        "            if category in rec[col].unique():\n",
        "                rec[col] = rec[col].replace(category, value).astype(int)"
      ],
      "metadata": {
        "id": "tVZhxVTybhQR"
      },
      "execution_count": null,
      "outputs": []
    },
    {
      "cell_type": "markdown",
      "source": [
        "Now the dtypes are much more accurate."
      ],
      "metadata": {
        "id": "dRR6M7UilSYB"
      }
    },
    {
      "cell_type": "code",
      "source": [
        "rec.dtypes"
      ],
      "metadata": {
        "colab": {
          "base_uri": "https://localhost:8080/"
        },
        "id": "4Zn0UyenRb9l",
        "outputId": "190aa291-9704-47d7-9d07-4fdcfa44ab6a"
      },
      "execution_count": null,
      "outputs": [
        {
          "output_type": "execute_result",
          "data": {
            "text/plain": [
              "Education_Level                                       object\n",
              "Prison_Offense                                        object\n",
              "Prior_Arrest_Episodes_Felony                           int64\n",
              "Prior_Arrest_Episodes_Misd                             int64\n",
              "Prior_Arrest_Episodes_Violent                          int64\n",
              "Prior_Arrest_Episodes_Property                         int64\n",
              "Prior_Arrest_Episodes_Drug                             int64\n",
              "Prior_Arrest_Episodes_PPViolationCharges               int64\n",
              "Prior_Arrest_Episodes_DVCharges                        int64\n",
              "Prior_Arrest_Episodes_GunCharges                       int64\n",
              "Prior_Conviction_Episodes_Felony                       int64\n",
              "Prior_Conviction_Episodes_Misd                         int64\n",
              "Prior_Conviction_Episodes_Viol                         int64\n",
              "Prior_Conviction_Episodes_Prop                         int64\n",
              "Prior_Conviction_Episodes_Drug                         int64\n",
              "Prior_Conviction_Episodes_PPViolationCharges           int64\n",
              "Prior_Conviction_Episodes_DomesticViolenceCharges      int64\n",
              "Prior_Conviction_Episodes_GunCharges                   int64\n",
              "Percent_Days_Employed                                float64\n",
              "Employment_Exempt                                      int64\n",
              "Recidivism_Within_3years                               int64\n",
              "dtype: object"
            ]
          },
          "metadata": {},
          "execution_count": 102
        }
      ]
    },
    {
      "cell_type": "markdown",
      "source": [
        "**Exploratory Data Analysis**"
      ],
      "metadata": {
        "id": "YYZ5Lpc7BWxU"
      }
    },
    {
      "cell_type": "markdown",
      "source": [
        "**Education**\n",
        "\n",
        "We have a categorical variable called Education Level. Let's see its frequency of values."
      ],
      "metadata": {
        "id": "tInJvzY9Z_KW"
      }
    },
    {
      "cell_type": "code",
      "source": [
        "rec['Education_Level'].value_counts()"
      ],
      "metadata": {
        "id": "czFo5e5JtPLM",
        "colab": {
          "base_uri": "https://localhost:8080/"
        },
        "outputId": "e19dcce8-d13c-46dc-e3ee-8f910f155444"
      },
      "execution_count": null,
      "outputs": [
        {
          "output_type": "execute_result",
          "data": {
            "text/plain": [
              "Education_Level\n",
              "High School Diploma      6366\n",
              "Less than HS diploma     5638\n",
              "At least some college    2166\n",
              "Name: count, dtype: int64"
            ]
          },
          "metadata": {},
          "execution_count": 103
        }
      ]
    },
    {
      "cell_type": "markdown",
      "source": [
        "Knowing that we have three levels for education, let's try to see if there is any correlation between level of education and recidivism."
      ],
      "metadata": {
        "id": "50Bs3SKeYt5Z"
      }
    },
    {
      "cell_type": "code",
      "source": [
        "Educ_corr = pd.get_dummies(rec[\"Education_Level\"]).astype(int) #Create new dataframe with three binary numeric variables for education\n",
        "Educ_corr['Recidivism_Within_3years']=rec[\"Recidivism_Within_3years\"] #added recidivism binary variable\n",
        "Educ_corr.corr() #Create correlation matrix"
      ],
      "metadata": {
        "id": "cR_mwmzSUOEi",
        "colab": {
          "base_uri": "https://localhost:8080/",
          "height": 175
        },
        "outputId": "6ee6c016-4db3-481d-de5d-b46e14452d7e"
      },
      "execution_count": null,
      "outputs": [
        {
          "output_type": "execute_result",
          "data": {
            "text/plain": [
              "                          At least some college  High School Diploma  \\\n",
              "At least some college                  1.000000            -0.383655   \n",
              "High School Diploma                   -0.383655             1.000000   \n",
              "Less than HS diploma                  -0.345305            -0.734196   \n",
              "Recidivism_Within_3years              -0.104457             0.041867   \n",
              "\n",
              "                          Less than HS diploma  Recidivism_Within_3years  \n",
              "At least some college                -0.345305                 -0.104457  \n",
              "High School Diploma                  -0.734196                  0.041867  \n",
              "Less than HS diploma                  1.000000                  0.034249  \n",
              "Recidivism_Within_3years              0.034249                  1.000000  "
            ],
            "text/html": [
              "\n",
              "  <div id=\"df-1fb3cbc9-c8c1-4306-a476-1dd9353464d1\" class=\"colab-df-container\">\n",
              "    <div>\n",
              "<style scoped>\n",
              "    .dataframe tbody tr th:only-of-type {\n",
              "        vertical-align: middle;\n",
              "    }\n",
              "\n",
              "    .dataframe tbody tr th {\n",
              "        vertical-align: top;\n",
              "    }\n",
              "\n",
              "    .dataframe thead th {\n",
              "        text-align: right;\n",
              "    }\n",
              "</style>\n",
              "<table border=\"1\" class=\"dataframe\">\n",
              "  <thead>\n",
              "    <tr style=\"text-align: right;\">\n",
              "      <th></th>\n",
              "      <th>At least some college</th>\n",
              "      <th>High School Diploma</th>\n",
              "      <th>Less than HS diploma</th>\n",
              "      <th>Recidivism_Within_3years</th>\n",
              "    </tr>\n",
              "  </thead>\n",
              "  <tbody>\n",
              "    <tr>\n",
              "      <th>At least some college</th>\n",
              "      <td>1.000000</td>\n",
              "      <td>-0.383655</td>\n",
              "      <td>-0.345305</td>\n",
              "      <td>-0.104457</td>\n",
              "    </tr>\n",
              "    <tr>\n",
              "      <th>High School Diploma</th>\n",
              "      <td>-0.383655</td>\n",
              "      <td>1.000000</td>\n",
              "      <td>-0.734196</td>\n",
              "      <td>0.041867</td>\n",
              "    </tr>\n",
              "    <tr>\n",
              "      <th>Less than HS diploma</th>\n",
              "      <td>-0.345305</td>\n",
              "      <td>-0.734196</td>\n",
              "      <td>1.000000</td>\n",
              "      <td>0.034249</td>\n",
              "    </tr>\n",
              "    <tr>\n",
              "      <th>Recidivism_Within_3years</th>\n",
              "      <td>-0.104457</td>\n",
              "      <td>0.041867</td>\n",
              "      <td>0.034249</td>\n",
              "      <td>1.000000</td>\n",
              "    </tr>\n",
              "  </tbody>\n",
              "</table>\n",
              "</div>\n",
              "    <div class=\"colab-df-buttons\">\n",
              "\n",
              "  <div class=\"colab-df-container\">\n",
              "    <button class=\"colab-df-convert\" onclick=\"convertToInteractive('df-1fb3cbc9-c8c1-4306-a476-1dd9353464d1')\"\n",
              "            title=\"Convert this dataframe to an interactive table.\"\n",
              "            style=\"display:none;\">\n",
              "\n",
              "  <svg xmlns=\"http://www.w3.org/2000/svg\" height=\"24px\" viewBox=\"0 -960 960 960\">\n",
              "    <path d=\"M120-120v-720h720v720H120Zm60-500h600v-160H180v160Zm220 220h160v-160H400v160Zm0 220h160v-160H400v160ZM180-400h160v-160H180v160Zm440 0h160v-160H620v160ZM180-180h160v-160H180v160Zm440 0h160v-160H620v160Z\"/>\n",
              "  </svg>\n",
              "    </button>\n",
              "\n",
              "  <style>\n",
              "    .colab-df-container {\n",
              "      display:flex;\n",
              "      gap: 12px;\n",
              "    }\n",
              "\n",
              "    .colab-df-convert {\n",
              "      background-color: #E8F0FE;\n",
              "      border: none;\n",
              "      border-radius: 50%;\n",
              "      cursor: pointer;\n",
              "      display: none;\n",
              "      fill: #1967D2;\n",
              "      height: 32px;\n",
              "      padding: 0 0 0 0;\n",
              "      width: 32px;\n",
              "    }\n",
              "\n",
              "    .colab-df-convert:hover {\n",
              "      background-color: #E2EBFA;\n",
              "      box-shadow: 0px 1px 2px rgba(60, 64, 67, 0.3), 0px 1px 3px 1px rgba(60, 64, 67, 0.15);\n",
              "      fill: #174EA6;\n",
              "    }\n",
              "\n",
              "    .colab-df-buttons div {\n",
              "      margin-bottom: 4px;\n",
              "    }\n",
              "\n",
              "    [theme=dark] .colab-df-convert {\n",
              "      background-color: #3B4455;\n",
              "      fill: #D2E3FC;\n",
              "    }\n",
              "\n",
              "    [theme=dark] .colab-df-convert:hover {\n",
              "      background-color: #434B5C;\n",
              "      box-shadow: 0px 1px 3px 1px rgba(0, 0, 0, 0.15);\n",
              "      filter: drop-shadow(0px 1px 2px rgba(0, 0, 0, 0.3));\n",
              "      fill: #FFFFFF;\n",
              "    }\n",
              "  </style>\n",
              "\n",
              "    <script>\n",
              "      const buttonEl =\n",
              "        document.querySelector('#df-1fb3cbc9-c8c1-4306-a476-1dd9353464d1 button.colab-df-convert');\n",
              "      buttonEl.style.display =\n",
              "        google.colab.kernel.accessAllowed ? 'block' : 'none';\n",
              "\n",
              "      async function convertToInteractive(key) {\n",
              "        const element = document.querySelector('#df-1fb3cbc9-c8c1-4306-a476-1dd9353464d1');\n",
              "        const dataTable =\n",
              "          await google.colab.kernel.invokeFunction('convertToInteractive',\n",
              "                                                    [key], {});\n",
              "        if (!dataTable) return;\n",
              "\n",
              "        const docLinkHtml = 'Like what you see? Visit the ' +\n",
              "          '<a target=\"_blank\" href=https://colab.research.google.com/notebooks/data_table.ipynb>data table notebook</a>'\n",
              "          + ' to learn more about interactive tables.';\n",
              "        element.innerHTML = '';\n",
              "        dataTable['output_type'] = 'display_data';\n",
              "        await google.colab.output.renderOutput(dataTable, element);\n",
              "        const docLink = document.createElement('div');\n",
              "        docLink.innerHTML = docLinkHtml;\n",
              "        element.appendChild(docLink);\n",
              "      }\n",
              "    </script>\n",
              "  </div>\n",
              "\n",
              "\n",
              "<div id=\"df-b201de4e-a219-4a05-a535-42caab1261d0\">\n",
              "  <button class=\"colab-df-quickchart\" onclick=\"quickchart('df-b201de4e-a219-4a05-a535-42caab1261d0')\"\n",
              "            title=\"Suggest charts\"\n",
              "            style=\"display:none;\">\n",
              "\n",
              "<svg xmlns=\"http://www.w3.org/2000/svg\" height=\"24px\"viewBox=\"0 0 24 24\"\n",
              "     width=\"24px\">\n",
              "    <g>\n",
              "        <path d=\"M19 3H5c-1.1 0-2 .9-2 2v14c0 1.1.9 2 2 2h14c1.1 0 2-.9 2-2V5c0-1.1-.9-2-2-2zM9 17H7v-7h2v7zm4 0h-2V7h2v10zm4 0h-2v-4h2v4z\"/>\n",
              "    </g>\n",
              "</svg>\n",
              "  </button>\n",
              "\n",
              "<style>\n",
              "  .colab-df-quickchart {\n",
              "      --bg-color: #E8F0FE;\n",
              "      --fill-color: #1967D2;\n",
              "      --hover-bg-color: #E2EBFA;\n",
              "      --hover-fill-color: #174EA6;\n",
              "      --disabled-fill-color: #AAA;\n",
              "      --disabled-bg-color: #DDD;\n",
              "  }\n",
              "\n",
              "  [theme=dark] .colab-df-quickchart {\n",
              "      --bg-color: #3B4455;\n",
              "      --fill-color: #D2E3FC;\n",
              "      --hover-bg-color: #434B5C;\n",
              "      --hover-fill-color: #FFFFFF;\n",
              "      --disabled-bg-color: #3B4455;\n",
              "      --disabled-fill-color: #666;\n",
              "  }\n",
              "\n",
              "  .colab-df-quickchart {\n",
              "    background-color: var(--bg-color);\n",
              "    border: none;\n",
              "    border-radius: 50%;\n",
              "    cursor: pointer;\n",
              "    display: none;\n",
              "    fill: var(--fill-color);\n",
              "    height: 32px;\n",
              "    padding: 0;\n",
              "    width: 32px;\n",
              "  }\n",
              "\n",
              "  .colab-df-quickchart:hover {\n",
              "    background-color: var(--hover-bg-color);\n",
              "    box-shadow: 0 1px 2px rgba(60, 64, 67, 0.3), 0 1px 3px 1px rgba(60, 64, 67, 0.15);\n",
              "    fill: var(--button-hover-fill-color);\n",
              "  }\n",
              "\n",
              "  .colab-df-quickchart-complete:disabled,\n",
              "  .colab-df-quickchart-complete:disabled:hover {\n",
              "    background-color: var(--disabled-bg-color);\n",
              "    fill: var(--disabled-fill-color);\n",
              "    box-shadow: none;\n",
              "  }\n",
              "\n",
              "  .colab-df-spinner {\n",
              "    border: 2px solid var(--fill-color);\n",
              "    border-color: transparent;\n",
              "    border-bottom-color: var(--fill-color);\n",
              "    animation:\n",
              "      spin 1s steps(1) infinite;\n",
              "  }\n",
              "\n",
              "  @keyframes spin {\n",
              "    0% {\n",
              "      border-color: transparent;\n",
              "      border-bottom-color: var(--fill-color);\n",
              "      border-left-color: var(--fill-color);\n",
              "    }\n",
              "    20% {\n",
              "      border-color: transparent;\n",
              "      border-left-color: var(--fill-color);\n",
              "      border-top-color: var(--fill-color);\n",
              "    }\n",
              "    30% {\n",
              "      border-color: transparent;\n",
              "      border-left-color: var(--fill-color);\n",
              "      border-top-color: var(--fill-color);\n",
              "      border-right-color: var(--fill-color);\n",
              "    }\n",
              "    40% {\n",
              "      border-color: transparent;\n",
              "      border-right-color: var(--fill-color);\n",
              "      border-top-color: var(--fill-color);\n",
              "    }\n",
              "    60% {\n",
              "      border-color: transparent;\n",
              "      border-right-color: var(--fill-color);\n",
              "    }\n",
              "    80% {\n",
              "      border-color: transparent;\n",
              "      border-right-color: var(--fill-color);\n",
              "      border-bottom-color: var(--fill-color);\n",
              "    }\n",
              "    90% {\n",
              "      border-color: transparent;\n",
              "      border-bottom-color: var(--fill-color);\n",
              "    }\n",
              "  }\n",
              "</style>\n",
              "\n",
              "  <script>\n",
              "    async function quickchart(key) {\n",
              "      const quickchartButtonEl =\n",
              "        document.querySelector('#' + key + ' button');\n",
              "      quickchartButtonEl.disabled = true;  // To prevent multiple clicks.\n",
              "      quickchartButtonEl.classList.add('colab-df-spinner');\n",
              "      try {\n",
              "        const charts = await google.colab.kernel.invokeFunction(\n",
              "            'suggestCharts', [key], {});\n",
              "      } catch (error) {\n",
              "        console.error('Error during call to suggestCharts:', error);\n",
              "      }\n",
              "      quickchartButtonEl.classList.remove('colab-df-spinner');\n",
              "      quickchartButtonEl.classList.add('colab-df-quickchart-complete');\n",
              "    }\n",
              "    (() => {\n",
              "      let quickchartButtonEl =\n",
              "        document.querySelector('#df-b201de4e-a219-4a05-a535-42caab1261d0 button');\n",
              "      quickchartButtonEl.style.display =\n",
              "        google.colab.kernel.accessAllowed ? 'block' : 'none';\n",
              "    })();\n",
              "  </script>\n",
              "</div>\n",
              "\n",
              "    </div>\n",
              "  </div>\n"
            ],
            "application/vnd.google.colaboratory.intrinsic+json": {
              "type": "dataframe",
              "summary": "{\n  \"name\": \"Educ_corr\",\n  \"rows\": 4,\n  \"fields\": [\n    {\n      \"column\": \"At least some college\",\n      \"properties\": {\n        \"dtype\": \"number\",\n        \"std\": 0.6507433410386794,\n        \"min\": -0.3836550503666682,\n        \"max\": 1.0,\n        \"num_unique_values\": 4,\n        \"samples\": [\n          -0.3836550503666682,\n          -0.1044565130410851,\n          1.0\n        ],\n        \"semantic_type\": \"\",\n        \"description\": \"\"\n      }\n    },\n    {\n      \"column\": \"High School Diploma\",\n      \"properties\": {\n        \"dtype\": \"number\",\n        \"std\": 0.7497874889346388,\n        \"min\": -0.7341956366699457,\n        \"max\": 1.0,\n        \"num_unique_values\": 4,\n        \"samples\": [\n          1.0,\n          0.04186650377365902,\n          -0.3836550503666682\n        ],\n        \"semantic_type\": \"\",\n        \"description\": \"\"\n      }\n    },\n    {\n      \"column\": \"Less than HS diploma\",\n      \"properties\": {\n        \"dtype\": \"number\",\n        \"std\": 0.7436262725772449,\n        \"min\": -0.7341956366699457,\n        \"max\": 1.0,\n        \"num_unique_values\": 4,\n        \"samples\": [\n          -0.7341956366699457,\n          0.03424903900423574,\n          -0.3453053802053944\n        ],\n        \"semantic_type\": \"\",\n        \"description\": \"\"\n      }\n    },\n    {\n      \"column\": \"Recidivism_Within_3years\",\n      \"properties\": {\n        \"dtype\": \"number\",\n        \"std\": 0.509184526607783,\n        \"min\": -0.1044565130410851,\n        \"max\": 1.0,\n        \"num_unique_values\": 4,\n        \"samples\": [\n          0.04186650377365902,\n          1.0,\n          -0.1044565130410851\n        ],\n        \"semantic_type\": \"\",\n        \"description\": \"\"\n      }\n    }\n  ]\n}"
            }
          },
          "metadata": {},
          "execution_count": 104
        }
      ]
    },
    {
      "cell_type": "markdown",
      "source": [
        "It's interesting that High School Diploma has a higher correlation with recidivism than less than HS diploma. This might be something to look at further."
      ],
      "metadata": {
        "id": "bdBPtslil_U8"
      }
    },
    {
      "cell_type": "markdown",
      "source": [
        "**Employment**"
      ],
      "metadata": {
        "id": "5GdkP8rYid6e"
      }
    },
    {
      "cell_type": "markdown",
      "source": [
        "Let's take a look at distribution of values for the time in days of being employed after parole (%)."
      ],
      "metadata": {
        "id": "X5VLwtDPk1lH"
      }
    },
    {
      "cell_type": "code",
      "source": [
        "rec['Percent_Days_Employed'].describe()"
      ],
      "metadata": {
        "id": "MT_YTQqzmszo",
        "colab": {
          "base_uri": "https://localhost:8080/"
        },
        "outputId": "707db8e4-ed3a-4fc4-81fc-92c93d2c7aed"
      },
      "execution_count": null,
      "outputs": [
        {
          "output_type": "execute_result",
          "data": {
            "text/plain": [
              "count    14170.000000\n",
              "mean         0.525187\n",
              "std          0.414983\n",
              "min          0.000000\n",
              "25%          0.000000\n",
              "50%          0.592486\n",
              "75%          0.980211\n",
              "max          1.000000\n",
              "Name: Percent_Days_Employed, dtype: float64"
            ]
          },
          "metadata": {},
          "execution_count": 105
        }
      ]
    },
    {
      "cell_type": "markdown",
      "source": [
        "It seems to follow a rather normal distribution with the median being around 50%. Let's visualize it to confirm."
      ],
      "metadata": {
        "id": "qU-b9McHnNsV"
      }
    },
    {
      "cell_type": "code",
      "source": [
        "rec[\"Percent_Days_Employed\"].plot.hist()"
      ],
      "metadata": {
        "id": "hCWTM52JidrY",
        "colab": {
          "base_uri": "https://localhost:8080/",
          "height": 447
        },
        "outputId": "8588f7ad-3a0e-4e16-f47a-7d94684217d2"
      },
      "execution_count": null,
      "outputs": [
        {
          "output_type": "execute_result",
          "data": {
            "text/plain": [
              "<Axes: ylabel='Frequency'>"
            ]
          },
          "metadata": {},
          "execution_count": 106
        },
        {
          "output_type": "display_data",
          "data": {
            "text/plain": [
              "<Figure size 640x480 with 1 Axes>"
            ],
            "image/png": "[encoded data removed]"
          },
          "metadata": {}
        }
      ]
    },
    {
      "cell_type": "markdown",
      "source": [
        "It looks like the majority has been either fully employed or fully unemployed during their parole. It has a U-shape distribution."
      ],
      "metadata": {
        "id": "x9aPNTfVlTjL"
      }
    },
    {
      "cell_type": "markdown",
      "source": [
        "**Criminal Offense**"
      ],
      "metadata": {
        "id": "-HnNlu0Qncqv"
      }
    },
    {
      "cell_type": "markdown",
      "source": [
        "Let's take a look at what people were reincarcerated for."
      ],
      "metadata": {
        "id": "pYKK1U8Ylb_H"
      }
    },
    {
      "cell_type": "code",
      "source": [
        "rec['Prison_Offense'].value_counts().plot.bar()"
      ],
      "metadata": {
        "id": "XmQ6sShaJ4At",
        "colab": {
          "base_uri": "https://localhost:8080/",
          "height": 563
        },
        "outputId": "aacdd6d0-e6c1-4594-ffb9-7d55c84a4a5d"
      },
      "execution_count": null,
      "outputs": [
        {
          "output_type": "execute_result",
          "data": {
            "text/plain": [
              "<Axes: xlabel='Prison_Offense'>"
            ]
          },
          "metadata": {},
          "execution_count": 24
        },
        {
          "output_type": "display_data",
          "data": {
            "text/plain": [
              "<Figure size 640x480 with 1 Axes>"
            ],
            "image/png": "[encoded data removed]"
          },
          "metadata": {}
        }
      ]
    },
    {
      "cell_type": "markdown",
      "source": [
        "**Model Ideas**\n",
        "\n",
        "The following two model ideas come to mind:\n",
        "\n",
        "\n",
        "*   KNN classifier model where we guess whether or not someone will be reincarcerated after their initial release from prison.\n",
        "*   Logistic regression for binary classification (in our case if someone will be reincarcerated within 3 years of their initial release).\n",
        "\n",
        "The independent variable will be Education, Employment, and Prison Offense. The dependent variable will be recidivism. To measure accuracy we will check if the predicted y value is the same as the actual y variable and get the score.\n",
        "\n"
      ],
      "metadata": {
        "id": "aQwgh4aBEWBH"
      }
    }
  ]
}